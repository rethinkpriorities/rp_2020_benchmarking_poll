{
 "cells": [
  {
   "cell_type": "markdown",
   "metadata": {},
   "source": [
    "## Libraries"
   ]
  },
  {
   "cell_type": "code",
   "execution_count": 1,
   "metadata": {},
   "outputs": [],
   "source": [
    "import pandas as pd\n",
    "import numpy as np\n",
    "import scipy.stats as stat\n",
    "\n",
    "from math import sqrt\n",
    "from mlgear.utils import show, display_columns\n",
    "from surveyweights import normalize_weights"
   ]
  },
  {
   "cell_type": "markdown",
   "metadata": {},
   "source": [
    "## Load Processed Data"
   ]
  },
  {
   "cell_type": "code",
   "execution_count": 2,
   "metadata": {},
   "outputs": [
    {
     "name": "stderr",
     "output_type": "stream",
     "text": [
      "/Users/peterhurford/.virtualenvs/dev/lib/python3.8/site-packages/IPython/core/interactiveshell.py:3145: DtypeWarning: Columns (9,10,11,12,13,14,15,16,17,18,19,20,21,22,23,24,25,26,27,28,29,30,31,32,33,40,41,42,43,90,91,92,93,94,95,96,97,98,99,100,101,102,103,104,105,106,107,108,109,110,111,112) have mixed types.Specify dtype option on import or set low_memory=False.\n",
      "  has_raised = await self.run_ast_nodes(code_ast.body, cell_name,\n"
     ]
    }
   ],
   "source": [
    "survey = pd.read_csv('responses_processed_national_weighted.csv').fillna('Not presented')"
   ]
  },
  {
   "cell_type": "markdown",
   "metadata": {},
   "source": [
    "## Analysis"
   ]
  },
  {
   "cell_type": "code",
   "execution_count": 3,
   "metadata": {},
   "outputs": [
    {
     "data": {
      "text/plain": [
       "Donald Trump, the Republican    48.541576\n",
       "Joe Biden, the Democrat         51.458424\n",
       "dtype: float64"
      ]
     },
     "execution_count": 3,
     "metadata": {},
     "output_type": "execute_result"
    }
   ],
   "source": [
    "options = ['Joe Biden, the Democrat', 'Donald Trump, the Republican']\n",
    "survey_ = survey.loc[survey['vote_trump_biden'].isin(options)].copy()\n",
    "options2 = ['Hillary Clinton', 'Donald Trump']\n",
    "survey_ = survey_.loc[survey_['vote2016'].isin(options2)].copy()\n",
    "options3 = ['Can trust', 'Can\\'t be too careful']\n",
    "survey_ = survey_.loc[survey_['gss_trust'].isin(options3)].copy()\n",
    "options4 = ['Disagree', 'Agree']\n",
    "survey_ = survey_.loc[survey_['gss_spanking'].isin(options4)].copy()\n",
    "survey_['lv_weight'] = normalize_weights(survey_['lv_weight'])\n",
    "survey_['vote_trump_biden'].value_counts(normalize=True) * survey_.groupby('vote_trump_biden')['lv_weight'].mean() * 100"
   ]
  },
  {
   "cell_type": "code",
   "execution_count": 4,
   "metadata": {},
   "outputs": [
    {
     "data": {
      "text/plain": [
       "Donald Trump       48.795235\n",
       "Hillary Clinton    51.204765\n",
       "dtype: float64"
      ]
     },
     "execution_count": 4,
     "metadata": {},
     "output_type": "execute_result"
    }
   ],
   "source": [
    "survey_['vote2016'].value_counts(normalize=True) * survey_.groupby('vote2016')['lv_weight'].mean() * 100"
   ]
  },
  {
   "cell_type": "code",
   "execution_count": 5,
   "metadata": {},
   "outputs": [
    {
     "data": {
      "text/plain": [
       "Asian or Asian American       4.054958\n",
       "Black or African American    11.688592\n",
       "Hispanic or Latino            8.863475\n",
       "Other                         1.009607\n",
       "White or Caucasian           74.383367\n",
       "dtype: float64"
      ]
     },
     "execution_count": 5,
     "metadata": {},
     "output_type": "execute_result"
    }
   ],
   "source": [
    "survey_['race'].value_counts(normalize=True) * survey_.groupby('race')['lv_weight'].mean() * 100"
   ]
  },
  {
   "cell_type": "code",
   "execution_count": 6,
   "metadata": {},
   "outputs": [
    {
     "data": {
      "text/plain": [
       "Completed graduate school     17.473452\n",
       "Graduated from college        27.302584\n",
       "Graduated from high school    19.804280\n",
       "Less than high school         11.199565\n",
       "Some college, no degree       24.220118\n",
       "dtype: float64"
      ]
     },
     "execution_count": 6,
     "metadata": {},
     "output_type": "execute_result"
    }
   ],
   "source": [
    "survey_['education'].value_counts(normalize=True) * survey_.groupby('education')['lv_weight'].mean() * 100"
   ]
  },
  {
   "cell_type": "code",
   "execution_count": 7,
   "metadata": {},
   "outputs": [
    {
     "data": {
      "text/plain": [
       "Can trust               39.88799\n",
       "Can't be too careful    60.11201\n",
       "dtype: float64"
      ]
     },
     "execution_count": 7,
     "metadata": {},
     "output_type": "execute_result"
    }
   ],
   "source": [
    "survey_['gss_trust'].value_counts(normalize=True) * survey_.groupby('gss_trust')['lv_weight'].mean() * 100"
   ]
  },
  {
   "cell_type": "code",
   "execution_count": 8,
   "metadata": {},
   "outputs": [
    {
     "data": {
      "text/plain": [
       "Agree       66.441489\n",
       "Disagree    33.558511\n",
       "dtype: float64"
      ]
     },
     "execution_count": 8,
     "metadata": {},
     "output_type": "execute_result"
    }
   ],
   "source": [
    "survey_['gss_spanking'].value_counts(normalize=True) * survey_.groupby('gss_spanking')['lv_weight'].mean() * 100"
   ]
  },
  {
   "cell_type": "code",
   "execution_count": 9,
   "metadata": {},
   "outputs": [
    {
     "data": {
      "text/plain": [
       "False    75.843211\n",
       "True     24.156789\n",
       "dtype: float64"
      ]
     },
     "execution_count": 9,
     "metadata": {},
     "output_type": "execute_result"
    }
   ],
   "source": [
    "survey_['noncollege_white'] = ((survey_['race'] == 'White or Caucasian') &\n",
    "                               (survey_['education'].isin(['Some college, no degreee',\n",
    "                                                           'Graduated from high school',\n",
    "                                                           'Less than high school'])))\n",
    "survey_['noncollege_white'].value_counts(normalize=True) * survey_.groupby('noncollege_white')['lv_weight'].mean() * 100"
   ]
  },
  {
   "cell_type": "code",
   "execution_count": 10,
   "metadata": {},
   "outputs": [
    {
     "name": "stdout",
     "output_type": "stream",
     "text": [
      "## HIGH TRUST ##\n",
      "Donald Trump       57.21858\n",
      "Hillary Clinton    42.78142\n",
      "dtype: float64\n",
      "-\n",
      "Donald Trump, the Republican    54.983546\n",
      "Joe Biden, the Democrat         45.016454\n",
      "dtype: float64\n",
      "-\n",
      "-\n",
      "## LOW TRUST ##\n",
      "Donald Trump       43.205832\n",
      "Hillary Clinton    56.794168\n",
      "dtype: float64\n",
      "-\n",
      "Donald Trump, the Republican    44.266935\n",
      "Joe Biden, the Democrat         55.733065\n",
      "dtype: float64\n"
     ]
    },
    {
     "name": "stderr",
     "output_type": "stream",
     "text": [
      "<ipython-input-10-cae0dda59776>:3: SettingWithCopyWarning: \n",
      "A value is trying to be set on a copy of a slice from a DataFrame.\n",
      "Try using .loc[row_indexer,col_indexer] = value instead\n",
      "\n",
      "See the caveats in the documentation: https://pandas.pydata.org/pandas-docs/stable/user_guide/indexing.html#returning-a-view-versus-a-copy\n",
      "  survey__['lv_weight'] = normalize_weights(survey__['lv_weight'])\n",
      "<ipython-input-10-cae0dda59776>:12: SettingWithCopyWarning: \n",
      "A value is trying to be set on a copy of a slice from a DataFrame.\n",
      "Try using .loc[row_indexer,col_indexer] = value instead\n",
      "\n",
      "See the caveats in the documentation: https://pandas.pydata.org/pandas-docs/stable/user_guide/indexing.html#returning-a-view-versus-a-copy\n",
      "  survey__['lv_weight'] = normalize_weights(survey__['lv_weight'])\n"
     ]
    }
   ],
   "source": [
    "print('## HIGH TRUST ##')\n",
    "survey__ = survey_[survey_['gss_trust'] == 'Can trust']\n",
    "survey__['lv_weight'] = normalize_weights(survey__['lv_weight'])\n",
    "print(survey__['vote2016'].value_counts(normalize=True) * survey__.groupby('vote2016')['lv_weight'].mean() * 100)\n",
    "print('-')\n",
    "print(survey__['vote_trump_biden'].value_counts(normalize=True) * survey__.groupby('vote_trump_biden')['lv_weight'].mean() * 100)\n",
    "\n",
    "print('-')\n",
    "print('-')\n",
    "print('## LOW TRUST ##')\n",
    "survey__ = survey_[survey_['gss_trust'] == 'Can\\'t be too careful']\n",
    "survey__['lv_weight'] = normalize_weights(survey__['lv_weight'])\n",
    "print(survey__['vote2016'].value_counts(normalize=True) * survey__.groupby('vote2016')['lv_weight'].mean() * 100)\n",
    "print('-')\n",
    "print(survey__['vote_trump_biden'].value_counts(normalize=True) * survey__.groupby('vote_trump_biden')['lv_weight'].mean() * 100)"
   ]
  },
  {
   "cell_type": "code",
   "execution_count": 11,
   "metadata": {},
   "outputs": [
    {
     "name": "stdout",
     "output_type": "stream",
     "text": [
      "## NONCOLLEGE WHITE ##\n",
      "Donald Trump       75.830145\n",
      "Hillary Clinton    24.169855\n",
      "dtype: float64\n",
      "-\n",
      "Donald Trump, the Republican    78.524159\n",
      "Joe Biden, the Democrat         21.475841\n",
      "dtype: float64\n",
      "-\n",
      "-\n",
      "## NOT \"NONCOLLEGE WHITE\" ##\n",
      "Donald Trump       40.184358\n",
      "Hillary Clinton    59.815642\n",
      "dtype: float64\n",
      "-\n",
      "Donald Trump, the Republican    38.991836\n",
      "Joe Biden, the Democrat         61.008164\n",
      "dtype: float64\n"
     ]
    },
    {
     "name": "stderr",
     "output_type": "stream",
     "text": [
      "<ipython-input-11-9c50076a4d50>:3: SettingWithCopyWarning: \n",
      "A value is trying to be set on a copy of a slice from a DataFrame.\n",
      "Try using .loc[row_indexer,col_indexer] = value instead\n",
      "\n",
      "See the caveats in the documentation: https://pandas.pydata.org/pandas-docs/stable/user_guide/indexing.html#returning-a-view-versus-a-copy\n",
      "  survey__['lv_weight'] = normalize_weights(survey__['lv_weight'])\n",
      "<ipython-input-11-9c50076a4d50>:12: SettingWithCopyWarning: \n",
      "A value is trying to be set on a copy of a slice from a DataFrame.\n",
      "Try using .loc[row_indexer,col_indexer] = value instead\n",
      "\n",
      "See the caveats in the documentation: https://pandas.pydata.org/pandas-docs/stable/user_guide/indexing.html#returning-a-view-versus-a-copy\n",
      "  survey__['lv_weight'] = normalize_weights(survey__['lv_weight'])\n"
     ]
    }
   ],
   "source": [
    "print('## NONCOLLEGE WHITE ##')\n",
    "survey__ = survey_[survey_['noncollege_white']]\n",
    "survey__['lv_weight'] = normalize_weights(survey__['lv_weight'])\n",
    "print(survey__['vote2016'].value_counts(normalize=True) * survey__.groupby('vote2016')['lv_weight'].mean() * 100)\n",
    "print('-')\n",
    "print(survey__['vote_trump_biden'].value_counts(normalize=True) * survey__.groupby('vote_trump_biden')['lv_weight'].mean() * 100)\n",
    "\n",
    "print('-')\n",
    "print('-')\n",
    "print('## NOT \"NONCOLLEGE WHITE\" ##')\n",
    "survey__ = survey_[~survey_['noncollege_white']]\n",
    "survey__['lv_weight'] = normalize_weights(survey__['lv_weight'])\n",
    "print(survey__['vote2016'].value_counts(normalize=True) * survey__.groupby('vote2016')['lv_weight'].mean() * 100)\n",
    "print('-')\n",
    "print(survey__['vote_trump_biden'].value_counts(normalize=True) * survey__.groupby('vote_trump_biden')['lv_weight'].mean() * 100)"
   ]
  },
  {
   "cell_type": "code",
   "execution_count": 12,
   "metadata": {},
   "outputs": [
    {
     "name": "stdout",
     "output_type": "stream",
     "text": [
      "## NONCOLLEGE WHITE, HIGH SOCIAL TRUST ##\n",
      "Donald Trump       87.94378\n",
      "Hillary Clinton    12.05622\n",
      "dtype: float64\n",
      "-\n",
      "Donald Trump, the Republican    87.514318\n",
      "Joe Biden, the Democrat         12.485682\n",
      "dtype: float64\n",
      "-\n",
      "-\n",
      "## NONCOLLEGE WHITE, LOW SOCIAL TRUST ##\n",
      "Donald Trump       64.779974\n",
      "Hillary Clinton    35.220026\n",
      "dtype: float64\n",
      "-\n",
      "Donald Trump, the Republican    70.323253\n",
      "Joe Biden, the Democrat         29.676747\n",
      "dtype: float64\n",
      "-\n",
      "-\n",
      "## NOT \"NONCOLLEGE WHITE\", HIGH SOCIAL TRUST ##\n",
      "Donald Trump       44.735446\n",
      "Hillary Clinton    55.264554\n",
      "dtype: float64\n",
      "-\n",
      "Donald Trump, the Republican    41.766839\n",
      "Joe Biden, the Democrat         58.233161\n",
      "dtype: float64\n",
      "-\n",
      "-\n",
      "## NOT \"NONCOLLEGE WHITE\", LOW SOCIAL TRUST ##\n",
      "Donald Trump       37.465527\n",
      "Hillary Clinton    62.534473\n",
      "dtype: float64\n",
      "-\n",
      "Donald Trump, the Republican    37.334042\n",
      "Joe Biden, the Democrat         62.665958\n",
      "dtype: float64\n"
     ]
    },
    {
     "name": "stderr",
     "output_type": "stream",
     "text": [
      "<ipython-input-12-823a5fdc13cd>:3: SettingWithCopyWarning: \n",
      "A value is trying to be set on a copy of a slice from a DataFrame.\n",
      "Try using .loc[row_indexer,col_indexer] = value instead\n",
      "\n",
      "See the caveats in the documentation: https://pandas.pydata.org/pandas-docs/stable/user_guide/indexing.html#returning-a-view-versus-a-copy\n",
      "  survey__['lv_weight'] = normalize_weights(survey__['lv_weight'])\n",
      "<ipython-input-12-823a5fdc13cd>:12: SettingWithCopyWarning: \n",
      "A value is trying to be set on a copy of a slice from a DataFrame.\n",
      "Try using .loc[row_indexer,col_indexer] = value instead\n",
      "\n",
      "See the caveats in the documentation: https://pandas.pydata.org/pandas-docs/stable/user_guide/indexing.html#returning-a-view-versus-a-copy\n",
      "  survey__['lv_weight'] = normalize_weights(survey__['lv_weight'])\n",
      "<ipython-input-12-823a5fdc13cd>:21: SettingWithCopyWarning: \n",
      "A value is trying to be set on a copy of a slice from a DataFrame.\n",
      "Try using .loc[row_indexer,col_indexer] = value instead\n",
      "\n",
      "See the caveats in the documentation: https://pandas.pydata.org/pandas-docs/stable/user_guide/indexing.html#returning-a-view-versus-a-copy\n",
      "  survey__['lv_weight'] = normalize_weights(survey__['lv_weight'])\n",
      "<ipython-input-12-823a5fdc13cd>:30: SettingWithCopyWarning: \n",
      "A value is trying to be set on a copy of a slice from a DataFrame.\n",
      "Try using .loc[row_indexer,col_indexer] = value instead\n",
      "\n",
      "See the caveats in the documentation: https://pandas.pydata.org/pandas-docs/stable/user_guide/indexing.html#returning-a-view-versus-a-copy\n",
      "  survey__['lv_weight'] = normalize_weights(survey__['lv_weight'])\n"
     ]
    }
   ],
   "source": [
    "print('## NONCOLLEGE WHITE, HIGH SOCIAL TRUST ##')\n",
    "survey__ = survey_[survey_['noncollege_white'] & (survey_['gss_trust'] == 'Can trust')]\n",
    "survey__['lv_weight'] = normalize_weights(survey__['lv_weight'])\n",
    "print(survey__['vote2016'].value_counts(normalize=True) * survey__.groupby('vote2016')['lv_weight'].mean() * 100)\n",
    "print('-')\n",
    "print(survey__['vote_trump_biden'].value_counts(normalize=True) * survey__.groupby('vote_trump_biden')['lv_weight'].mean() * 100)\n",
    "\n",
    "print('-')\n",
    "print('-')\n",
    "print('## NONCOLLEGE WHITE, LOW SOCIAL TRUST ##')\n",
    "survey__ = survey_[survey_['noncollege_white'] & (survey_['gss_trust'] == 'Can\\'t be too careful')]\n",
    "survey__['lv_weight'] = normalize_weights(survey__['lv_weight'])\n",
    "print(survey__['vote2016'].value_counts(normalize=True) * survey__.groupby('vote2016')['lv_weight'].mean() * 100)\n",
    "print('-')\n",
    "print(survey__['vote_trump_biden'].value_counts(normalize=True) * survey__.groupby('vote_trump_biden')['lv_weight'].mean() * 100)\n",
    "\n",
    "print('-')\n",
    "print('-')\n",
    "print('## NOT \"NONCOLLEGE WHITE\", HIGH SOCIAL TRUST ##')\n",
    "survey__ = survey_[~survey_['noncollege_white'] & (survey_['gss_trust'] == 'Can trust')]\n",
    "survey__['lv_weight'] = normalize_weights(survey__['lv_weight'])\n",
    "print(survey__['vote2016'].value_counts(normalize=True) * survey__.groupby('vote2016')['lv_weight'].mean() * 100)\n",
    "print('-')\n",
    "print(survey__['vote_trump_biden'].value_counts(normalize=True) * survey__.groupby('vote_trump_biden')['lv_weight'].mean() * 100)\n",
    "\n",
    "print('-')\n",
    "print('-')\n",
    "print('## NOT \"NONCOLLEGE WHITE\", LOW SOCIAL TRUST ##')\n",
    "survey__ = survey_[~survey_['noncollege_white'] & (survey_['gss_trust'] == 'Can\\'t be too careful')]\n",
    "survey__['lv_weight'] = normalize_weights(survey__['lv_weight'])\n",
    "print(survey__['vote2016'].value_counts(normalize=True) * survey__.groupby('vote2016')['lv_weight'].mean() * 100)\n",
    "print('-')\n",
    "print(survey__['vote_trump_biden'].value_counts(normalize=True) * survey__.groupby('vote_trump_biden')['lv_weight'].mean() * 100)"
   ]
  }
 ],
 "metadata": {
  "kernelspec": {
   "display_name": "Python 3",
   "language": "python",
   "name": "python3"
  },
  "language_info": {
   "codemirror_mode": {
    "name": "ipython",
    "version": 3
   },
   "file_extension": ".py",
   "mimetype": "text/x-python",
   "name": "python",
   "nbconvert_exporter": "python",
   "pygments_lexer": "ipython3",
   "version": "3.8.6"
  }
 },
 "nbformat": 4,
 "nbformat_minor": 4
}
