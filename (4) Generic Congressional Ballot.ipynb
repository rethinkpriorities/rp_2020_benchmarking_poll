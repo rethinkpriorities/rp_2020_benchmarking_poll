{
 "cells": [
  {
   "cell_type": "markdown",
   "metadata": {},
   "source": [
    "## Libraries"
   ]
  },
  {
   "cell_type": "code",
   "execution_count": 1,
   "metadata": {},
   "outputs": [],
   "source": [
    "import pandas as pd\n",
    "import numpy as np\n",
    "import scipy.stats as stat\n",
    "\n",
    "from math import sqrt\n",
    "from mlgear.utils import show, display_columns\n",
    "from surveyweights import normalize_weights\n",
    "\n",
    "\n",
    "def margin_of_error(n=None, sd=None, p=None, type='proportion', interval_size=0.95):\n",
    "    z_lookup = {0.8: 1.28, 0.85: 1.44, 0.9: 1.65, 0.95: 1.96, 0.99: 2.58}\n",
    "    if interval_size not in z_lookup.keys():\n",
    "        raise ValueError('{} not a valid `interval_size` - must be {}'.format(interval_size,\n",
    "                                                                              ', '.join(list(z_lookup.keys()))))\n",
    "    if type == 'proportion':\n",
    "        se = sqrt(p * (1 - p)) / sqrt(n)\n",
    "    elif type == 'continuous':\n",
    "        se = sd / sqrt(n)\n",
    "    else:\n",
    "        raise ValueError('{} not a valid `type` - must be proportion or continuous')\n",
    "    \n",
    "    z = z_lookup[interval_size]\n",
    "    return se * z\n",
    "\n",
    "\n",
    "def print_pct(pct, digits=0):\n",
    "    pct = pct * 100\n",
    "    pct = np.round(pct, digits)\n",
    "    if pct >= 100:\n",
    "        if digits == 0:\n",
    "            val = '>99.0%'\n",
    "        else:\n",
    "            val = '>99.'\n",
    "            for d in range(digits - 1):\n",
    "                val += '9'\n",
    "            val += '9%'\n",
    "    elif pct <= 0:\n",
    "        if digits == 0:\n",
    "            val = '<0.1%'\n",
    "        else:\n",
    "            val = '<0.'\n",
    "            for d in range(digits - 1):\n",
    "                val += '0'\n",
    "            val += '1%'\n",
    "    else:\n",
    "        val = '{}%'.format(pct)\n",
    "    return val\n",
    "\n",
    "\n",
    "def calc_result(dem_vote, rep_vote, n, interval=0.8):\n",
    "    GENERAL_POLLING_ERROR = 2.5\n",
    "    TIME_SHIFT_ERROR = 0.5\n",
    "    N_SIMS = 100000\n",
    "    \n",
    "    dem_moe = margin_of_error(n=n, p=dem_vote/100, interval_size=interval)\n",
    "    rep_moe = margin_of_error(n=n, p=rep_vote/100, interval_size=interval)\n",
    "    undecided = 100 - dem_vote - rep_vote\n",
    "\n",
    "    dem_mean = dem_vote + undecided * 0.25\n",
    "    dem_raw_moe = dem_moe * 100\n",
    "    dem_allocate_undecided = undecided * 0.4\n",
    "    dem_margin = dem_raw_moe + dem_allocate_undecided + GENERAL_POLLING_ERROR + TIME_SHIFT_ERROR\n",
    "    \n",
    "    rep_mean = rep_vote + undecided * 0.25\n",
    "    rep_raw_moe = rep_moe * 100\n",
    "    rep_allocate_undecided = undecided * 0.4\n",
    "    rep_margin = rep_raw_moe + rep_allocate_undecided + GENERAL_POLLING_ERROR + TIME_SHIFT_ERROR\n",
    "    \n",
    "    cdf_value = 0.5 + 0.5 * interval\n",
    "    normed_sigma = stat.norm.ppf(cdf_value)\n",
    "    \n",
    "    dem_sigma = dem_margin / 100 / normed_sigma\n",
    "    dem_sims = np.random.normal(dem_mean / 100, dem_sigma, N_SIMS)\n",
    "    \n",
    "    rep_sigma = rep_margin / 100 / normed_sigma\n",
    "    rep_sims = np.random.normal(rep_mean / 100, rep_sigma, N_SIMS)\n",
    "    \n",
    "    chance_pass = np.sum([sim[0] > sim[1] for sim in zip(dem_sims, rep_sims)]) / N_SIMS\n",
    "    \n",
    "    low, high = np.percentile(dem_sims - rep_sims, [20, 80]) * 100\n",
    "    \n",
    "    return {'mean': dem_mean - rep_mean, 'high': high, 'low': low, 'n': n,\n",
    "            'raw_moe': dem_raw_moe + rep_raw_moe,\n",
    "            'margin': (dem_margin + rep_margin) / 2,\n",
    "            'sigma': (dem_sigma + rep_sigma) / 2,\n",
    "            'chance_pass': chance_pass}\n",
    "\n",
    "\n",
    "def print_result(mean, high, low, n, raw_moe, margin, sigma, chance_pass):\n",
    "    mean = np.round(mean, 1)\n",
    "    first = np.round(high, 1)\n",
    "    second = np.round(low, 1)\n",
    "    sigma = np.round(sigma * 100, 1)\n",
    "    raw_moe = np.round(raw_moe, 1)\n",
    "    margin = np.round(margin, 1)\n",
    "    chance_pass = print_pct(chance_pass, 1)\n",
    "    if second < first:\n",
    "        _ = first\n",
    "        first = second\n",
    "        second = _\n",
    "    if second > 100:\n",
    "        second = 100\n",
    "    if first < -100:\n",
    "        first = -100\n",
    "    print(('Result Dems +{} (80% CI: {} to {}) (Weighted N={}) (raw_moe={}pts, margin={}pts, '\n",
    "           'sigma={}pts) (Dems {} likely to win)').format(mean,\n",
    "                                                          first,\n",
    "                                                          second,\n",
    "                                                          n,\n",
    "                                                          raw_moe,\n",
    "                                                          margin,\n",
    "                                                          sigma,\n",
    "                                                          chance_pass))\n",
    "    print('-')"
   ]
  },
  {
   "cell_type": "markdown",
   "metadata": {},
   "source": [
    "## Load Processed Data"
   ]
  },
  {
   "cell_type": "code",
   "execution_count": 2,
   "metadata": {},
   "outputs": [
    {
     "name": "stderr",
     "output_type": "stream",
     "text": [
      "/Users/peterhurford/.virtualenvs/dev/lib/python3.8/site-packages/IPython/core/interactiveshell.py:3145: DtypeWarning: Columns (9,10,11,12,13,14,15,16,17,18,19,20,21,22,23,24,25,26,27,28,29,30,31,32,33,40,41,42,43,89,90,91,92,93,94,95,96,97,98,99,100,101,102,103,104,105,106,107,108,109,110,111,112) have mixed types.Specify dtype option on import or set low_memory=False.\n",
      "  has_raised = await self.run_ast_nodes(code_ast.body, cell_name,\n"
     ]
    }
   ],
   "source": [
    "survey = pd.read_csv('responses_processed_national_weighted.csv').fillna('Not presented')"
   ]
  },
  {
   "cell_type": "markdown",
   "metadata": {},
   "source": [
    "## Generic Congressional Ballot"
   ]
  },
  {
   "cell_type": "code",
   "execution_count": 3,
   "metadata": {},
   "outputs": [
    {
     "data": {
      "text/plain": [
       "A Democratic candidate    0.588080\n",
       "A Republican candidate    0.189743\n",
       "Not decided               0.104804\n",
       "Do not intend to vote     0.076830\n",
       "Another candidate         0.018244\n",
       "Unsure                    0.014190\n",
       "I did not vote            0.008109\n",
       "Name: vote_rep, dtype: float64"
      ]
     },
     "execution_count": 3,
     "metadata": {},
     "output_type": "execute_result"
    }
   ],
   "source": [
    "survey['vote_rep'].value_counts(normalize=True)"
   ]
  },
  {
   "cell_type": "code",
   "execution_count": 4,
   "metadata": {},
   "outputs": [
    {
     "name": "stdout",
     "output_type": "stream",
     "text": [
      "## NATIONAL UNWEIGHTED ##\n",
      "A Democratic candidate    65.279028\n",
      "A Republican candidate    21.062106\n",
      "Another candidate          2.025203\n",
      "Not decided               11.633663\n",
      "Name: vote_rep, dtype: float64\n",
      "Result Dems +44.2 (80% CI: 35.6 to 52.8) (Weighted N=4444) (raw_moe=1.7pts, margin=9.3pts, sigma=7.3pts) (Dems >99.9% likely to win)\n",
      "-\n",
      "## NATIONAL WEIGHTED ##\n",
      "A Democratic candidate    45.595352\n",
      "A Republican candidate    40.044352\n",
      "Another candidate          2.453497\n",
      "Not decided               11.906800\n",
      "dtype: float64\n",
      "Result Dems +5.6 (80% CI: -3.9 to 15.0) (Weighted N=1835) (raw_moe=3.0pts, margin=10.2pts, sigma=8.0pts) (Dems 68.8% likely to win)\n",
      "-\n",
      "## NATIONAL WEIGHTED + RV ##\n",
      "A Democratic candidate    47.697772\n",
      "A Republican candidate    42.003772\n",
      "Another candidate          2.401967\n",
      "Not decided                7.896488\n",
      "dtype: float64\n",
      "Result Dems +5.7 (80% CI: -2.3 to 13.7) (Weighted N=1790) (raw_moe=3.0pts, margin=8.6pts, sigma=6.7pts) (Dems 72.5% likely to win)\n",
      "-\n",
      "## NATIONAL WEIGHTED + LV ##\n",
      "A Democratic candidate    47.745724\n",
      "A Republican candidate    42.464593\n",
      "Another candidate          2.487943\n",
      "Not decided                7.301739\n",
      "dtype: float64\n",
      "Result Dems +5.3 (80% CI: -2.5 to 13.1) (Weighted N=1806) (raw_moe=3.0pts, margin=8.4pts, sigma=6.6pts) (Dems 71.8% likely to win)\n",
      "-\n"
     ]
    }
   ],
   "source": [
    "options = ['A Democratic candidate', 'A Republican candidate', 'Another candidate', 'Not decided']\n",
    "survey_ = survey.loc[survey['vote_rep'].isin(options)].copy()\n",
    "survey_['weight'] = normalize_weights(survey_['weight'])\n",
    "survey_['rv_weight'] = normalize_weights(survey_['rv_weight'])\n",
    "survey_['lv_weight'] = normalize_weights(survey_['lv_weight'])\n",
    "    \n",
    "print('## NATIONAL UNWEIGHTED ##')\n",
    "n = len(survey_)\n",
    "votes = survey_['vote_rep'].value_counts(normalize=True) * 100\n",
    "votes = votes[options] * (100 / votes[options].sum())\n",
    "print(votes)\n",
    "print_result(**calc_result(dem_vote=votes['A Democratic candidate'],\n",
    "                           rep_vote=votes['A Republican candidate'],\n",
    "                           n=n))\n",
    "    \n",
    "print('## NATIONAL WEIGHTED ##')\n",
    "weighted_n = int(np.round(survey_['weight'].apply(lambda w: 1 if w > 1 else w).sum()))\n",
    "votes = survey_['vote_rep'].value_counts(normalize=True) * survey_.groupby('vote_rep')['weight'].mean() * 100\n",
    "votes = votes[options] * (100 / votes[options].sum())\n",
    "print(votes)\n",
    "print_result(**calc_result(dem_vote=votes['A Democratic candidate'],\n",
    "                           rep_vote=votes['A Republican candidate'],\n",
    "                           n=weighted_n))\n",
    "\n",
    "print('## NATIONAL WEIGHTED + RV ##')\n",
    "rv_weighted_n = int(np.round(survey_['rv_weight'].apply(lambda w: 1 if w > 1 else w).sum()))\n",
    "votes = survey_['vote_rep'].value_counts(normalize=True) * survey.groupby('vote_rep')['rv_weight'].mean() * 100\n",
    "votes = votes[options] * (100 / votes[options].sum())\n",
    "print(votes)\n",
    "print_result(**calc_result(dem_vote=votes['A Democratic candidate'],\n",
    "                           rep_vote=votes['A Republican candidate'],\n",
    "                           n=rv_weighted_n))\n",
    "\n",
    "print('## NATIONAL WEIGHTED + LV ##')\n",
    "lv_weighted_n = int(np.round(survey_['lv_weight'].apply(lambda w: 1 if w > 1 else w).sum()))\n",
    "votes = survey_['vote_rep'].value_counts(normalize=True) * survey.groupby('vote_rep')['lv_weight'].mean() * 100\n",
    "votes = votes[options] * (100 / votes[options].sum())\n",
    "print(votes)\n",
    "print_result(**calc_result(dem_vote=votes['A Democratic candidate'],\n",
    "                           rep_vote=votes['A Republican candidate'],\n",
    "                           n=lv_weighted_n))"
   ]
  }
 ],
 "metadata": {
  "kernelspec": {
   "display_name": "Python 3",
   "language": "python",
   "name": "python3"
  },
  "language_info": {
   "codemirror_mode": {
    "name": "ipython",
    "version": 3
   },
   "file_extension": ".py",
   "mimetype": "text/x-python",
   "name": "python",
   "nbconvert_exporter": "python",
   "pygments_lexer": "ipython3",
   "version": "3.8.6"
  }
 },
 "nbformat": 4,
 "nbformat_minor": 4
}
