{
 "cells": [
  {
   "cell_type": "markdown",
   "metadata": {},
   "source": [
    "## Libraries"
   ]
  },
  {
   "cell_type": "code",
   "execution_count": 25,
   "metadata": {},
   "outputs": [],
   "source": [
    "import pandas as pd\n",
    "import numpy as np\n",
    "import scipy.stats as stat\n",
    "\n",
    "from math import sqrt\n",
    "from mlgear.utils import show, display_columns\n",
    "from surveyweights import normalize_weights\n",
    "\n",
    "\n",
    "def margin_of_error(n=None, sd=None, p=None, type='proportion', interval_size=0.95):\n",
    "    z_lookup = {0.8: 1.28, 0.85: 1.44, 0.9: 1.65, 0.95: 1.96, 0.99: 2.58}\n",
    "    if interval_size not in z_lookup.keys():\n",
    "        raise ValueError('{} not a valid `interval_size` - must be {}'.format(interval_size,\n",
    "                                                                              ', '.join(list(z_lookup.keys()))))\n",
    "    if type == 'proportion':\n",
    "        se = sqrt(p * (1 - p)) / sqrt(n)\n",
    "    elif type == 'continuous':\n",
    "        se = sd / sqrt(n)\n",
    "    else:\n",
    "        raise ValueError('{} not a valid `type` - must be proportion or continuous')\n",
    "    \n",
    "    z = z_lookup[interval_size]\n",
    "    return se * z\n",
    "\n",
    "\n",
    "def print_pct(pct, digits=0):\n",
    "    pct = pct * 100\n",
    "    pct = np.round(pct, digits)\n",
    "    if pct >= 100:\n",
    "        if digits == 0:\n",
    "            val = '>99.0%'\n",
    "        else:\n",
    "            val = '>99.'\n",
    "            for d in range(digits - 1):\n",
    "                val += '9'\n",
    "            val += '9%'\n",
    "    elif pct <= 0:\n",
    "        if digits == 0:\n",
    "            val = '<0.1%'\n",
    "        else:\n",
    "            val = '<0.'\n",
    "            for d in range(digits - 1):\n",
    "                val += '0'\n",
    "            val += '1%'\n",
    "    else:\n",
    "        val = '{}%'.format(pct)\n",
    "    return val\n",
    "\n",
    "\n",
    "def calc_result(biden_vote, trump_vote, n, interval=0.8):\n",
    "    GENERAL_POLLING_ERROR = 2\n",
    "    BIDEN_BIAS = -4 # Electoral college edge\n",
    "    N_SIMS = 100000\n",
    "    \n",
    "    biden_moe = margin_of_error(n=n, p=biden_vote/100, interval_size=interval)\n",
    "    trump_moe = margin_of_error(n=n, p=trump_vote/100, interval_size=interval)\n",
    "    undecided = (100 - biden_vote - trump_vote) / 2\n",
    "\n",
    "    biden_mean = biden_vote + undecided * 0.25\n",
    "    biden_raw_moe = biden_moe * 100\n",
    "    biden_allocate_undecided = undecided * 0.4\n",
    "    biden_margin = biden_raw_moe + biden_allocate_undecided + GENERAL_POLLING_ERROR\n",
    "    \n",
    "    trump_mean = trump_vote + undecided * 0.25\n",
    "    trump_raw_moe = trump_moe * 100\n",
    "    trump_allocate_undecided = undecided * 0.4\n",
    "    trump_margin = trump_raw_moe + trump_allocate_undecided + GENERAL_POLLING_ERROR\n",
    "    \n",
    "    cdf_value = 0.5 + 0.5 * interval\n",
    "    normed_sigma = stat.norm.ppf(cdf_value)\n",
    "    \n",
    "    biden_sigma = biden_margin / 100 / normed_sigma\n",
    "    biden_sims = np.random.normal(biden_mean / 100, biden_sigma, N_SIMS)\n",
    "    \n",
    "    trump_sigma = trump_margin / 100 / normed_sigma\n",
    "    trump_sims = np.random.normal(trump_mean / 100, trump_sigma, N_SIMS)\n",
    "    \n",
    "    chance_pass = np.sum([sim[0] + BIDEN_BIAS / 100 > sim[1] for sim in zip(biden_sims, trump_sims)]) / N_SIMS\n",
    "    \n",
    "    low, high = np.percentile(biden_sims - trump_sims, [20, 80]) * 100\n",
    "    \n",
    "    return {'mean': biden_mean - trump_mean, 'high': high, 'low': low, 'n': n,\n",
    "            'raw_moe': biden_raw_moe + trump_raw_moe,\n",
    "            'margin': (biden_margin + trump_margin) / 2,\n",
    "            'sigma': (biden_sigma + trump_sigma) / 2,\n",
    "            'chance_pass': chance_pass}\n",
    "\n",
    "\n",
    "def print_result(mean, high, low, n, raw_moe, margin, sigma, chance_pass):\n",
    "    mean = np.round(mean, 1)\n",
    "    first = np.round(high, 1)\n",
    "    second = np.round(low, 1)\n",
    "    sigma = np.round(sigma * 100, 1)\n",
    "    raw_moe = np.round(raw_moe, 1)\n",
    "    margin = np.round(margin, 1)\n",
    "    chance_pass = print_pct(chance_pass, 1)\n",
    "    if second < first:\n",
    "        _ = first\n",
    "        first = second\n",
    "        second = _\n",
    "    if second > 100:\n",
    "        second = 100\n",
    "    if first < -100:\n",
    "        first = -100\n",
    "    print(('Result Biden +{} (80% CI: {} to {}) (Weighted N={}) (raw_moe={}pts, margin={}pts, '\n",
    "           'sigma={}pts) (Biden {} likely to win)').format(mean,\n",
    "                                                           first,\n",
    "                                                           second,\n",
    "                                                           n,\n",
    "                                                           raw_moe,\n",
    "                                                           margin,\n",
    "                                                           sigma,\n",
    "                                                           chance_pass))\n",
    "    print('-')"
   ]
  },
  {
   "cell_type": "markdown",
   "metadata": {},
   "source": [
    "## Load Processed Data"
   ]
  },
  {
   "cell_type": "code",
   "execution_count": 26,
   "metadata": {},
   "outputs": [],
   "source": [
    "survey = pd.read_csv('responses_processed_national_weighted.csv').fillna('Not presented')"
   ]
  },
  {
   "cell_type": "markdown",
   "metadata": {},
   "source": [
    "## Turnout"
   ]
  },
  {
   "cell_type": "code",
   "execution_count": 27,
   "metadata": {},
   "outputs": [
    {
     "data": {
      "text/plain": [
       "Don't know     0.632210\n",
       "No            59.418991\n",
       "Yes           37.171851\n",
       "dtype: float64"
      ]
     },
     "execution_count": 27,
     "metadata": {},
     "output_type": "execute_result"
    }
   ],
   "source": [
    "survey_ = survey.loc[survey['lv_registered'] == 'Yes']\n",
    "survey_['lv_already_voted'].value_counts(normalize=True) * survey_.groupby('lv_already_voted')['weight'].mean() * 100\n",
    "# Per this survey, 37% of registered voters voted\n",
    "# Assuming 52M actually already voted...\n",
    "# Assuming 153M registed voters...\n",
    "# Actual is assumed to be 34%\n",
    "# Thus 0.918 adjustment"
   ]
  },
  {
   "cell_type": "code",
   "execution_count": 28,
   "metadata": {},
   "outputs": [
    {
     "name": "stdout",
     "output_type": "stream",
     "text": [
      "Turnout in poll: 68.3%\n",
      "Estimated voting population: 62.7% (80% CI: 57.4% to 68.0%)\n",
      "Estimated registered voters: 80.4% (80% CI: 75.5% to 85.3%)\n"
     ]
    }
   ],
   "source": [
    "TURNOUT_MARGIN = 4\n",
    "TURNOUT_BIAS = 0.918\n",
    "turnout = (survey['lv_index'] * survey['weight'] * 100).mean()\n",
    "print('Turnout in poll: {}%'.format(np.round(turnout, 1)))\n",
    "weighted_n = int(np.round(survey['weight'].apply(lambda w: 1 if w > 1 else w).sum()))\n",
    "turnout_moe = margin_of_error(n=weighted_n, p=turnout/100, interval_size=0.8)\n",
    "print('Estimated voting population: {}% (80% CI: {}% to {}%)'.format(np.round(turnout * TURNOUT_BIAS, 1),\n",
    "                                                                     np.round(turnout * TURNOUT_BIAS - turnout_moe * 100 - TURNOUT_MARGIN, 1),\n",
    "                                                                     np.round(turnout * TURNOUT_BIAS + turnout_moe * 100 + TURNOUT_MARGIN, 1)))\n",
    "\n",
    "RV_MARGIN = 4\n",
    "RV_BIAS = 0.918\n",
    "num_rv = (survey['rv_index'] * survey['weight'] * 100).mean()\n",
    "rv_moe = margin_of_error(n=weighted_n, p=num_rv/100, interval_size=0.8)\n",
    "print('Estimated registered voters: {}% (80% CI: {}% to {}%)'.format(np.round(num_rv * RV_BIAS, 1),\n",
    "                                                                     np.round(num_rv * RV_BIAS - rv_moe * 100 - RV_MARGIN, 1),\n",
    "                                                                     np.round(num_rv * RV_BIAS + rv_moe * 100 + RV_MARGIN, 1)))"
   ]
  },
  {
   "cell_type": "markdown",
   "metadata": {},
   "source": [
    "## Trump-Biden"
   ]
  },
  {
   "cell_type": "code",
   "execution_count": 29,
   "metadata": {},
   "outputs": [
    {
     "data": {
      "text/plain": [
       "Joe Biden, the Democrat         0.642408\n",
       "Donald Trump, the Republican    0.193797\n",
       "Do not intend to vote           0.069126\n",
       "Not decided                     0.050882\n",
       "Another candidate               0.040341\n",
       "Unsure                          0.002433\n",
       "I did not vote                  0.001014\n",
       "Name: vote_trump_biden, dtype: float64"
      ]
     },
     "execution_count": 29,
     "metadata": {},
     "output_type": "execute_result"
    }
   ],
   "source": [
    "survey['vote_trump_biden'].value_counts(normalize=True)"
   ]
  },
  {
   "cell_type": "code",
   "execution_count": 30,
   "metadata": {},
   "outputs": [
    {
     "name": "stdout",
     "output_type": "stream",
     "text": [
      "## NATIONAL UNWEIGHTED ##\n",
      "Joe Biden, the Democrat         69.267760\n",
      "Donald Trump, the Republican    20.896175\n",
      "Another candidate                4.349727\n",
      "Not decided                      5.486339\n",
      "Name: vote_trump_biden, dtype: float64\n",
      "Result Biden +48.4 (80% CI: 43.9 to 52.8) (Weighted N=4575) (raw_moe=1.6pts, margin=4.8pts, sigma=3.7pts) (Biden >99.9% likely to win)\n",
      "-\n",
      "## NATIONAL WEIGHTED ##\n",
      "Joe Biden, the Democrat         49.905696\n",
      "Donald Trump, the Republican    40.229647\n",
      "Another candidate                3.491332\n",
      "Not decided                      6.373325\n",
      "dtype: float64\n",
      "Result Biden +9.7 (80% CI: 4.6 to 14.7) (Weighted N=1899) (raw_moe=2.9pts, margin=5.4pts, sigma=4.2pts) (Biden 82.9% likely to win)\n",
      "-\n",
      "## NATIONAL WEIGHTED + RV ##\n",
      "Joe Biden, the Democrat         51.043475\n",
      "Donald Trump, the Republican    41.121272\n",
      "Another candidate                3.581995\n",
      "Not decided                      4.253258\n",
      "dtype: float64\n",
      "Result Biden +9.9 (80% CI: 5.2 to 14.6) (Weighted N=1857) (raw_moe=2.9pts, margin=5.0pts, sigma=3.9pts) (Biden 85.5% likely to win)\n",
      "-\n",
      "## NATIONAL WEIGHTED + LV ##\n",
      "Joe Biden, the Democrat         51.346667\n",
      "Donald Trump, the Republican    41.493585\n",
      "Another candidate                3.583590\n",
      "Not decided                      3.576158\n",
      "dtype: float64\n",
      "Result Biden +9.9 (80% CI: 5.3 to 14.4) (Weighted N=1867) (raw_moe=2.9pts, margin=4.9pts, sigma=3.8pts) (Biden 86.1% likely to win)\n",
      "-\n"
     ]
    }
   ],
   "source": [
    "options = ['Joe Biden, the Democrat', 'Donald Trump, the Republican', 'Another candidate', 'Not decided']\n",
    "survey_ = survey.loc[survey['vote_trump_biden'].isin(options)].copy()\n",
    "survey_['weight'] = normalize_weights(survey_['weight'])\n",
    "survey_['rv_weight'] = normalize_weights(survey_['rv_weight'])\n",
    "survey_['lv_weight'] = normalize_weights(survey_['lv_weight'])\n",
    "    \n",
    "print('## NATIONAL UNWEIGHTED ##')\n",
    "n = len(survey_)\n",
    "votes = survey_['vote_trump_biden'].value_counts(normalize=True) * 100\n",
    "votes = votes[options] * (100 / votes[options].sum())\n",
    "print(votes)\n",
    "print_result(**calc_result(biden_vote=votes['Joe Biden, the Democrat'],\n",
    "                           trump_vote=votes['Donald Trump, the Republican'],\n",
    "                           n=n))\n",
    "    \n",
    "print('## NATIONAL WEIGHTED ##')\n",
    "weighted_n = int(np.round(survey_['weight'].apply(lambda w: 1 if w > 1 else w).sum()))\n",
    "votes = survey_['vote_trump_biden'].value_counts(normalize=True) * survey_.groupby('vote_trump_biden')['weight'].mean() * 100\n",
    "votes = votes[options] * (100 / votes[options].sum())\n",
    "print(votes)\n",
    "print_result(**calc_result(biden_vote=votes['Joe Biden, the Democrat'],\n",
    "                           trump_vote=votes['Donald Trump, the Republican'],\n",
    "                           n=weighted_n))\n",
    "\n",
    "print('## NATIONAL WEIGHTED + RV ##')\n",
    "rv_weighted_n = int(np.round(survey_['rv_weight'].apply(lambda w: 1 if w > 1 else w).sum()))\n",
    "votes = survey_['vote_trump_biden'].value_counts(normalize=True) * survey_.groupby('vote_trump_biden')['rv_weight'].mean() * 100\n",
    "votes = votes[options] * (100 / votes[options].sum())\n",
    "print(votes)\n",
    "print_result(**calc_result(biden_vote=votes['Joe Biden, the Democrat'],\n",
    "                           trump_vote=votes['Donald Trump, the Republican'],\n",
    "                           n=rv_weighted_n))\n",
    "\n",
    "print('## NATIONAL WEIGHTED + LV ##')\n",
    "lv_weighted_n = int(np.round(survey_['lv_weight'].apply(lambda w: 1 if w > 1 else w).sum()))\n",
    "votes = survey_['vote_trump_biden'].value_counts(normalize=True) * survey_.groupby('vote_trump_biden')['lv_weight'].mean() * 100\n",
    "votes = votes[options] * (100 / votes[options].sum())\n",
    "print(votes)\n",
    "print_result(**calc_result(biden_vote=votes['Joe Biden, the Democrat'],\n",
    "                           trump_vote=votes['Donald Trump, the Republican'],\n",
    "                           n=lv_weighted_n))"
   ]
  }
 ],
 "metadata": {
  "kernelspec": {
   "display_name": "Python 3",
   "language": "python",
   "name": "python3"
  },
  "language_info": {
   "codemirror_mode": {
    "name": "ipython",
    "version": 3
   },
   "file_extension": ".py",
   "mimetype": "text/x-python",
   "name": "python",
   "nbconvert_exporter": "python",
   "pygments_lexer": "ipython3",
   "version": "3.8.6"
  }
 },
 "nbformat": 4,
 "nbformat_minor": 4
}
